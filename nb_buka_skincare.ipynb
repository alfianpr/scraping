{
 "cells": [
  {
   "cell_type": "code",
   "execution_count": 2,
   "metadata": {},
   "outputs": [],
   "source": [
    "from bukalapak import get_access_token, get_products, clean_df\n",
    "import pandas as pd\n",
    "from datetime import datetime\n",
    "from utils import to_excel"
   ]
  },
  {
   "cell_type": "code",
   "execution_count": 4,
   "metadata": {},
   "outputs": [],
   "source": [
    "page = 10\n",
    "category = \"2269\"\n",
    "\n",
    "params = {\n",
    "    \"prambanan_override\" : \"true\",\n",
    "    \"category_id\" : category,\n",
    "    \"sort\" : \"bestselling\",\n",
    "    \"limit\" : 30,\n",
    "    \"facet\" : \"true\",\n",
    "    # \"brand\": \"true\"\n",
    "}"
   ]
  },
  {
   "cell_type": "code",
   "execution_count": 5,
   "metadata": {},
   "outputs": [],
   "source": [
    "timestr = datetime.today()\n",
    "access_token = get_access_token()\n",
    "df_scraper = get_products(params,access_token, page=page)\n",
    "df_scraper_final = clean_df(df_scraper, timestr)\n",
    "to_excel(df_scraper_final, name_file=\"buka_skincare\")"
   ]
  }
 ],
 "metadata": {
  "interpreter": {
   "hash": "dc2d76fe6947d49177b6069d8188b63289155fc29466e660ef7ba23821532413"
  },
  "kernelspec": {
   "display_name": "Python 3.9.7 64-bit ('scraping': conda)",
   "language": "python",
   "name": "python3"
  },
  "language_info": {
   "codemirror_mode": {
    "name": "ipython",
    "version": 3
   },
   "file_extension": ".py",
   "mimetype": "text/x-python",
   "name": "python",
   "nbconvert_exporter": "python",
   "pygments_lexer": "ipython3",
   "version": "3.9.7"
  },
  "orig_nbformat": 4
 },
 "nbformat": 4,
 "nbformat_minor": 2
}
